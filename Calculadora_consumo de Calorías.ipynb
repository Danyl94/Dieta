{
 "cells": [
  {
   "cell_type": "code",
   "execution_count": 1,
   "metadata": {},
   "outputs": [],
   "source": [
    "import numpy as np\n",
    "import matplotlib.pyplot as plt\n",
    "import pylab as pl"
   ]
  },
  {
   "cell_type": "markdown",
   "metadata": {},
   "source": [
    "## Cantidad de Nutrientes de ingesta diaria para perder o ganar peso \n",
    "\n",
    "Al ingresar el peso se calcula la cantidad  proteina,  grasa y carbohidratos  ue debería consumir un individuo en una dieta equilibrada, tendiendo a perder peso, cuidado el aporte de proteinas necesaria para que no que no se desgaste en lmusculo duante la perida, así mismo se presenta la cantidad de calorias que representan esos indiadores.  "
   ]
  },
  {
   "cell_type": "code",
   "execution_count": 28,
   "metadata": {},
   "outputs": [
    {
     "name": "stdout",
     "output_type": "stream",
     "text": [
      "Ingrese peso en  kg  60\n",
      "La cantidad de proteina   que debe consumir es 150.0 g\n",
      "La cantidad de Carbohidratos que debe consumir es 150.0 g\n",
      "La cantidad de grasa  que debe consumir es 60 g\n",
      "La cantidad de calorias  en calpor  proteina que debe consumir es  615.00 cal\n",
      "La cantidad de calorias en cal por  carbohidratos que debe consumir es 600.0 cal\n",
      "La cantidad de calorias en cal  por  grasa que debe consumir es 540 cal\n",
      "Las calorias totales dependiendo de los macros para ese peso es 1755.0 cal\n"
     ]
    },
    {
     "data": {
      "image/png": "[encoded data removed]",
      "text/plain": [
       "<Figure size 432x288 with 1 Axes>"
      ]
     },
     "metadata": {},
     "output_type": "display_data"
    }
   ],
   "source": [
    "#la grasa saturada monosaurada entra en la cuenta d etoda las grasas \n",
    "lista=[]\n",
    "peso =int(input(\"Ingrese peso en  kg  \"))\n",
    "#altura = int(input(\"Ingrese altura en cm \"))\n",
    "\n",
    "Proteina=peso*2.5\n",
    "carbo = peso*2.5\n",
    "Grasa =peso*1\n",
    "\n",
    "#print('correcot', (Proteina+ carbo+ Grasa))\n",
    "print (\"La cantidad de proteina   que debe consumir es\", (Proteina),'g' )\n",
    "print (\"La cantidad de Carbohidratos que debe consumir es\", (carbo ),'g')\n",
    "print (\"La cantidad de grasa  que debe consumir es\", (Grasa),'g')\n",
    "\n",
    "#El gasto calorico \n",
    "\n",
    "#1 gramo de proteina aporta 4 calorias\n",
    "#1 g carbohidratos  aporta 4 calorias\n",
    "#1 g Grasa  aporta 9 calorias\n",
    "#1 g alcohol  aporta 7 calorias\n",
    "#1 g fibra  aporta 2 calorias (este es un carbo igualq eu el azucar )\n",
    "P=Proteina*4.1\n",
    "C=carbo*4\n",
    "G=Grasa*9\n",
    "\n",
    "print (\"La cantidad de calorias  en calpor  proteina que debe consumir es  {:.2f}\".format (P),  'cal')\n",
    "print (\"La cantidad de calorias en cal por  carbohidratos que debe consumir es\", (C), 'cal')\n",
    "print (\"La cantidad de calorias en cal  por  grasa que debe consumir es\", (G) , 'cal')\n",
    "print (\"Las calorias totales dependiendo de los macros para ese peso es\", (P+G+C), 'cal')\n",
    "\n",
    "\n",
    "impr = [\"Proteina\", \"Carbohidratos\", \"Grasas\"]\n",
    "vol = [P, C, G]\n",
    "#expl =(0, 0.05, 0, 0)\n",
    "plt.pie(vol, labels=impr, autopct='%1.1f%%', shadow=True)\n",
    "plt.title(\"MACROS\", bbox={\"facecolor\":\"0.8\", \"pad\":7})\n",
    "#plt.legend()\n",
    "plt.show()"
   ]
  },
  {
   "cell_type": "markdown",
   "metadata": {},
   "source": [
    "Las mujeres y  los hombres tenemos distintos metabilismos por ende gastamos energía de manera disitanta ademas el tipo de vida que llevemos es un factor clave para aumentar o disminuir el gasto energético durante el día. \n",
    "\n",
    "Te devuelve la cantidad de Calorías que  deberías consumir segun tu estilo de vida para mantener tu peso "
   ]
  },
  {
   "cell_type": "code",
   "execution_count": 31,
   "metadata": {},
   "outputs": [
    {
     "name": "stdout",
     "output_type": "stream",
     "text": [
      "Es usted hombre 0, es usted mujer 1 0\n",
      "Ingrese peso kg 85\n",
      "Ingrese altura en cm 180\n",
      "ingrese la edad 28\n",
      " Las calorias quemasas en reposo son: 1840.0\n",
      "sendentario, cero ejercicio, trabajo sentado ponga 0, \n",
      " entrena 1-3 dias trabajo poco movido ponga 1, \n",
      " entre 4-5 días trabajo mas omenos movido ponga 2, \n",
      " si entrena 6 días trabajo movido 3, \n",
      " si es atleta entrena 7 días su trabajo es muy fisico (carga cajas, albañil...)ponga 4 1\n",
      "Sus calorias  gastadas en un día son 2530.0 cal\n"
     ]
    }
   ],
   "source": [
    "sexo =int(input(\"Es usted hombre 0, es usted mujer 1 \"))\n",
    "peso =int(input(\"Ingrese peso kg \"))\n",
    "altura = int(input(\"Ingrese altura en cm \"))\n",
    "edad= int(input(\"ingrese la edad \"))\n",
    "if sexo==1:\n",
    "    x=(altura*6.25) + (peso*10)- (edad*5) - 161\n",
    "    print(\" las calorias quemasas en reposo son:\",(x))\n",
    "elif sexo==0:\n",
    "    x=(altura*6.25) + (peso*10)- (edad*5) + 5\n",
    "    print(\" Las calorias quemasas en reposo son:\",(x))\n",
    "else: \n",
    "    print(\"no se reconoce\")\n",
    "act=int(input(\"sendentario, cero ejercicio, trabajo sentado ponga 0, \\n entrena 1-3 dias trabajo poco movido ponga 1, \\n entre 4-5 días trabajo mas omenos movido ponga 2, \\n si entrena 6 días trabajo movido 3, \\n si es atleta entrena 7 días su trabajo es muy fisico (carga cajas, albañil...)ponga 4 \"))\n",
    "\n",
    "if act ==0:\n",
    "    print(\"Sus calorias gastadas en un día  son\", (x*1.2),  'cal')\n",
    "elif act ==1:\n",
    "    print(\"Sus calorias  gastadas en un día son\", (x*1.375), 'cal')\n",
    "elif act ==2:\n",
    "    print(\"Sus calorias  gastadas en un día son\", (x*1.5), 'cal')\n",
    "elif act ==3:\n",
    "    print(\"Sus calorias  gastadas en un día son\", (x*1.725), 'cal')\n",
    "elif act ==4:\n",
    "    print(\"Sus calorias  gastadas en un día son\", (x*1.9), 'cal')\n",
    "else:\n",
    "    print(\"no se reconoce\")\n",
    "    \n",
    "    "
   ]
  },
  {
   "cell_type": "markdown",
   "metadata": {},
   "source": [
    "## Indice de Masa Corporal\n",
    "Le hace reerencia a como estan sus proporciones de grasa de acuerdo a su composición física "
   ]
  },
  {
   "cell_type": "code",
   "execution_count": 30,
   "metadata": {},
   "outputs": [
    {
     "name": "stdout",
     "output_type": "stream",
     "text": [
      "Es usted hombre 0, es usted mujer 1 1\n",
      "Ingrese peso kg60\n",
      "Ingrese altura en cm 162\n",
      "ingrese la edad28\n",
      "Ingrese su cintura en cm 70\n",
      "Ingrese su cuello en cm 32\n",
      "Ingrese su cadera en cm 90\n",
      "su Indice de Masa Corporal es 22.86236854138089\n",
      " Su indice de grasa corporal2 es: -22.66666666666667\n"
     ]
    }
   ],
   "source": [
    "sexo=int(input(\"Es usted hombre 0, es usted mujer 1 \"))\n",
    "peso =int(input(\"Ingrese peso kg\"))\n",
    "altura = int(input(\"Ingrese altura en cm \"))\n",
    "edad= int(input(\"ingrese la edad\"))\n",
    "cintura = int(input(\"Ingrese su cintura en cm \"))\n",
    "cuello = int(input(\"Ingrese su cuello en cm \"))\n",
    "cadera = int(input(\"Ingrese su cadera en cm \"))\n",
    "\n",
    "#IMC= (peso/(altura*altura))*10000;\n",
    "print(\"su Indice de Masa Corporal es\", (peso/(altura*altura)*10000))\n",
    "#if sexo==1:\n",
    " #   GC=(IMC*1.2) - (0*10.8)+ (edad*0.23) - 5.4\n",
    "  #  print(\" Su indice de grasa corporal es:\",(GC))\n",
    "#elif sexo==0:\n",
    " #   GC=(IMC*1.2) - (1*10.8)+ (edad*0.23) - 5.4\n",
    "  #  print(\"Su indice de grasa corporal es:\",(GC))\n",
    "#else: \n",
    " #   print(\"no se reconoce\")\n",
    "    \n",
    "    \n",
    "if sexo==1:\n",
    "    GC2= ((peso -((peso*0.86)-24)-(cintura*0.4)-(cadera*0.2))*100)/peso \n",
    "    print(\" Su indice de grasa corporal2 es:\",(GC2))\n",
    "elif sexo==0:\n",
    "    GC2= (peso -((peso*0.85)+28)-(cintura*0.35))*100/peso \n",
    "   #GC2=495/((1.0324-(0.19077)*np.log(cintura-cuello)+(0.15456)*np.log(altura))) -450\n",
    "    print(\"Su indice de grasa corporal2 es:\",(GC2))\n",
    "else: \n",
    "    print(\"no se reconoce\") \n",
    "   # GC2=495/(1.29579 -(0.35004)*np.log(cintura+cadera-cuello)+(0.22100)*np.log(altura))-450\n"
   ]
  },
  {
   "cell_type": "markdown",
   "metadata": {},
   "source": [
    "https://www.scientificpsychic.com/fitness/dieta.html"
   ]
  },
  {
   "cell_type": "code",
   "execution_count": null,
   "metadata": {},
   "outputs": [],
   "source": []
  }
 ],
 "metadata": {
  "kernelspec": {
   "display_name": "Python 3 (ipykernel)",
   "language": "python",
   "name": "python3"
  },
  "language_info": {
   "codemirror_mode": {
    "name": "ipython",
    "version": 3
   },
   "file_extension": ".py",
   "mimetype": "text/x-python",
   "name": "python",
   "nbconvert_exporter": "python",
   "pygments_lexer": "ipython3",
   "version": "3.9.12"
  }
 },
 "nbformat": 4,
 "nbformat_minor": 4
}
